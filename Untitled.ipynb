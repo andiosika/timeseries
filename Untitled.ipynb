{
 "cells": [
  {
   "cell_type": "code",
   "execution_count": 4,
   "metadata": {
    "ExecuteTime": {
     "end_time": "2020-11-10T20:56:25.664900Z",
     "start_time": "2020-11-10T20:56:11.529976Z"
    }
   },
   "outputs": [
    {
     "name": "stdout",
     "output_type": "stream",
     "text": [
      "Downloading Alaska\n",
      "Downloading Alabama\n",
      "Downloading Arkansas\n",
      "Downloading Arizona\n",
      "Downloading California\n",
      "Downloading Colorado\n",
      "Downloading Connecticut\n",
      "Downloading Delaware\n",
      "Downloading Florida\n",
      "Downloading Georgia\n",
      "Downloading Hawaii\n",
      "Downloading Iowa\n",
      "Downloading Idaho\n",
      "Downloading Illinois\n",
      "Downloading Indiana\n",
      "Downloading Kansas\n",
      "Downloading Kentucky\n",
      "Downloading Louisiana\n",
      "Downloading Massachusetts\n",
      "Downloading Maryland\n",
      "Downloading Maine\n",
      "Downloading Michigan\n",
      "Downloading Minnesota\n",
      "Downloading Missouri\n",
      "Downloading Mississippi\n",
      "Downloading Montana\n",
      "Downloading North Carolina\n",
      "Downloading North Dakota\n",
      "Downloading Nebraska\n",
      "Downloading New Hampshire\n",
      "Downloading New Jersey\n",
      "Downloading New Mexico\n",
      "Downloading Nevada\n",
      "Downloading New York\n",
      "Downloading Ohio\n",
      "Downloading Oklahoma\n",
      "Downloading Oregon\n",
      "Downloading Pennsylvania\n",
      "Downloading Rhode Island\n",
      "Downloading South Carolina\n",
      "Downloading South Dakota\n",
      "Downloading Tennessee\n",
      "Downloading Texas\n",
      "Downloading Utah\n",
      "Downloading Virginia\n",
      "Downloading Vermont\n",
      "Downloading Washington\n",
      "Downloading Wisconsin\n",
      "Downloading West Virginia\n",
      "Downloading Wyoming\n"
     ]
    }
   ],
   "source": [
    "import pandas as pd\n",
    "import pprint\n",
    "import requests\n",
    " \n",
    "def collapse_results_by_party(results_by_candidate, candidates):\n",
    "    results_by_party = {}\n",
    "    for candidate, count in results_by_candidate.items():\n",
    "        party = candidates[candidate]['party']\n",
    "        results_by_party[party] = results_by_party.get(party, 0) + count\n",
    " \n",
    "    return results_by_party\n",
    " \n",
    "states = [\n",
    " 'Alaska', 'Alabama', 'Arkansas', 'Arizona', 'California', 'Colorado',\n",
    " 'Connecticut', 'Delaware', 'Florida', 'Georgia',\n",
    " 'Hawaii', 'Iowa', 'Idaho', 'Illinois', 'Indiana', 'Kansas', 'Kentucky',\n",
    " 'Louisiana', 'Massachusetts', 'Maryland', 'Maine', 'Michigan',\n",
    " 'Minnesota', 'Missouri', 'Mississippi', 'Montana', 'North Carolina',\n",
    " 'North Dakota', 'Nebraska', 'New Hampshire', 'New Jersey', 'New Mexico',\n",
    " 'Nevada', 'New York', 'Ohio', 'Oklahoma', 'Oregon', 'Pennsylvania',\n",
    " 'Rhode Island', 'South Carolina', 'South Dakota', 'Tennessee', 'Texas',\n",
    " 'Utah', 'Virginia', 'Vermont', 'Washington', 'Wisconsin',\n",
    " 'West Virginia', 'Wyoming',\n",
    "]\n",
    " \n",
    "all_results = {}\n",
    "for state in states:\n",
    "    print('Downloading {}'.format(state))\n",
    "    formatted_state = state.lower().replace(' ', '-')\n",
    "    state_results = requests.get('https://static01.nyt.com/elections-assets/2020/data/api/2020-11-03/race-page/{}/president.json'.format(formatted_state)).json()\n",
    "    all_results[formatted_state] = state_results\n",
    " \n",
    "records = []\n",
    "for state, state_results in all_results.items():\n",
    "    race = state_results['data']['races'][0]\n",
    " \n",
    "    for candidate in race['candidates']:\n",
    "        if candidate['party_id'] == 'republican':\n",
    "            candidate['party'] = 'rep'\n",
    "        elif candidate['party_id'] == 'democrat':\n",
    "            candidate['party'] = 'dem'\n",
    "        else:\n",
    "            candidate['party'] = 'trd'\n",
    "    candidates = { candidate['candidate_key']: candidate for candidate in race['candidates'] }\n",
    " \n",
    "    for data_point in race['timeseries']:\n",
    "        data_point['state']             = state\n",
    "        data_point['expected_votes']    = race['tot_exp_vote']\n",
    "        data_point['trump2016']         = race['trump2016']\n",
    "        data_point['votes2012']         = race['votes2012']\n",
    "        data_point['votes2016']         = race['votes2016']\n",
    " \n",
    "        vote_shares = collapse_results_by_party(data_point['vote_shares'], candidates)\n",
    "        for party in ['rep', 'dem', 'trd']:\n",
    "            data_point['vote_share_{}'.format(party)] = vote_shares.get(party, 0)\n",
    " \n",
    "        data_point.pop('vote_shares')\n",
    "        records.append(data_point)\n",
    " \n",
    "time_series_df = pd.DataFrame.from_records(records)\n",
    "time_series_df.to_csv('data/nyt_ts.csv', encoding='utf-8')"
   ]
  },
  {
   "cell_type": "code",
   "execution_count": 17,
   "metadata": {
    "ExecuteTime": {
     "end_time": "2020-11-10T21:02:14.396912Z",
     "start_time": "2020-11-10T21:02:14.390928Z"
    }
   },
   "outputs": [
    {
     "data": {
      "text/plain": [
       "50"
      ]
     },
     "execution_count": 17,
     "metadata": {},
     "output_type": "execute_result"
    }
   ],
   "source": [
    "len(states)"
   ]
  },
  {
   "cell_type": "code",
   "execution_count": 13,
   "metadata": {
    "ExecuteTime": {
     "end_time": "2020-11-10T21:00:56.841754Z",
     "start_time": "2020-11-10T21:00:56.811803Z"
    }
   },
   "outputs": [],
   "source": [
    "df = pd.read_csv('data/nyt_ts.csv', delimiter=',')"
   ]
  },
  {
   "cell_type": "code",
   "execution_count": 14,
   "metadata": {
    "ExecuteTime": {
     "end_time": "2020-11-10T21:00:58.412936Z",
     "start_time": "2020-11-10T21:00:58.406951Z"
    }
   },
   "outputs": [],
   "source": [
    "data = pd.DataFrame(df)"
   ]
  },
  {
   "cell_type": "code",
   "execution_count": 15,
   "metadata": {
    "ExecuteTime": {
     "end_time": "2020-11-10T21:00:59.925422Z",
     "start_time": "2020-11-10T21:00:59.909464Z"
    }
   },
   "outputs": [
    {
     "data": {
      "text/html": [
       "<div>\n",
       "<style scoped>\n",
       "    .dataframe tbody tr th:only-of-type {\n",
       "        vertical-align: middle;\n",
       "    }\n",
       "\n",
       "    .dataframe tbody tr th {\n",
       "        vertical-align: top;\n",
       "    }\n",
       "\n",
       "    .dataframe thead th {\n",
       "        text-align: right;\n",
       "    }\n",
       "</style>\n",
       "<table border=\"1\" class=\"dataframe\">\n",
       "  <thead>\n",
       "    <tr style=\"text-align: right;\">\n",
       "      <th></th>\n",
       "      <th>Unnamed: 0</th>\n",
       "      <th>votes</th>\n",
       "      <th>eevp</th>\n",
       "      <th>eevp_source</th>\n",
       "      <th>timestamp</th>\n",
       "      <th>state</th>\n",
       "      <th>expected_votes</th>\n",
       "      <th>trump2016</th>\n",
       "      <th>votes2012</th>\n",
       "      <th>votes2016</th>\n",
       "      <th>vote_share_rep</th>\n",
       "      <th>vote_share_dem</th>\n",
       "      <th>vote_share_trd</th>\n",
       "    </tr>\n",
       "  </thead>\n",
       "  <tbody>\n",
       "    <tr>\n",
       "      <td>0</td>\n",
       "      <td>0</td>\n",
       "      <td>0</td>\n",
       "      <td>0</td>\n",
       "      <td>edison</td>\n",
       "      <td>2020-11-04T10:01:44Z</td>\n",
       "      <td>alaska</td>\n",
       "      <td>367000</td>\n",
       "      <td>163387</td>\n",
       "      <td>300495</td>\n",
       "      <td>318608</td>\n",
       "      <td>0.000</td>\n",
       "      <td>0.000</td>\n",
       "      <td>0</td>\n",
       "    </tr>\n",
       "    <tr>\n",
       "      <td>1</td>\n",
       "      <td>1</td>\n",
       "      <td>113744</td>\n",
       "      <td>31</td>\n",
       "      <td>edison</td>\n",
       "      <td>2020-11-04T07:47:41Z</td>\n",
       "      <td>alaska</td>\n",
       "      <td>367000</td>\n",
       "      <td>163387</td>\n",
       "      <td>300495</td>\n",
       "      <td>318608</td>\n",
       "      <td>0.605</td>\n",
       "      <td>0.352</td>\n",
       "      <td>0</td>\n",
       "    </tr>\n",
       "    <tr>\n",
       "      <td>2</td>\n",
       "      <td>2</td>\n",
       "      <td>132475</td>\n",
       "      <td>36</td>\n",
       "      <td>edison</td>\n",
       "      <td>2020-11-04T08:57:55Z</td>\n",
       "      <td>alaska</td>\n",
       "      <td>367000</td>\n",
       "      <td>163387</td>\n",
       "      <td>300495</td>\n",
       "      <td>318608</td>\n",
       "      <td>0.614</td>\n",
       "      <td>0.347</td>\n",
       "      <td>0</td>\n",
       "    </tr>\n",
       "    <tr>\n",
       "      <td>3</td>\n",
       "      <td>3</td>\n",
       "      <td>172031</td>\n",
       "      <td>56</td>\n",
       "      <td>edison</td>\n",
       "      <td>2020-11-04T18:34:58Z</td>\n",
       "      <td>alaska</td>\n",
       "      <td>367000</td>\n",
       "      <td>163387</td>\n",
       "      <td>300495</td>\n",
       "      <td>318608</td>\n",
       "      <td>0.629</td>\n",
       "      <td>0.330</td>\n",
       "      <td>0</td>\n",
       "    </tr>\n",
       "    <tr>\n",
       "      <td>4</td>\n",
       "      <td>4</td>\n",
       "      <td>190970</td>\n",
       "      <td>61</td>\n",
       "      <td>edison</td>\n",
       "      <td>2020-11-09T19:09:13Z</td>\n",
       "      <td>alaska</td>\n",
       "      <td>367000</td>\n",
       "      <td>163387</td>\n",
       "      <td>300495</td>\n",
       "      <td>318608</td>\n",
       "      <td>0.622</td>\n",
       "      <td>0.336</td>\n",
       "      <td>0</td>\n",
       "    </tr>\n",
       "  </tbody>\n",
       "</table>\n",
       "</div>"
      ],
      "text/plain": [
       "   Unnamed: 0   votes  eevp eevp_source             timestamp   state  \\\n",
       "0           0       0     0      edison  2020-11-04T10:01:44Z  alaska   \n",
       "1           1  113744    31      edison  2020-11-04T07:47:41Z  alaska   \n",
       "2           2  132475    36      edison  2020-11-04T08:57:55Z  alaska   \n",
       "3           3  172031    56      edison  2020-11-04T18:34:58Z  alaska   \n",
       "4           4  190970    61      edison  2020-11-09T19:09:13Z  alaska   \n",
       "\n",
       "   expected_votes  trump2016  votes2012  votes2016  vote_share_rep  \\\n",
       "0          367000     163387     300495     318608           0.000   \n",
       "1          367000     163387     300495     318608           0.605   \n",
       "2          367000     163387     300495     318608           0.614   \n",
       "3          367000     163387     300495     318608           0.629   \n",
       "4          367000     163387     300495     318608           0.622   \n",
       "\n",
       "   vote_share_dem  vote_share_trd  \n",
       "0           0.000               0  \n",
       "1           0.352               0  \n",
       "2           0.347               0  \n",
       "3           0.330               0  \n",
       "4           0.336               0  "
      ]
     },
     "execution_count": 15,
     "metadata": {},
     "output_type": "execute_result"
    }
   ],
   "source": [
    "data.head()"
   ]
  },
  {
   "cell_type": "code",
   "execution_count": 16,
   "metadata": {
    "ExecuteTime": {
     "end_time": "2020-11-10T21:01:20.664752Z",
     "start_time": "2020-11-10T21:01:20.659768Z"
    }
   },
   "outputs": [
    {
     "data": {
      "text/plain": [
       "8854"
      ]
     },
     "execution_count": 16,
     "metadata": {},
     "output_type": "execute_result"
    }
   ],
   "source": [
    "len(data)"
   ]
  },
  {
   "cell_type": "code",
   "execution_count": 150,
   "metadata": {
    "ExecuteTime": {
     "end_time": "2020-11-11T13:47:01.658682Z",
     "start_time": "2020-11-11T13:47:01.651700Z"
    }
   },
   "outputs": [],
   "source": [
    "vf = data.copy()"
   ]
  },
  {
   "cell_type": "code",
   "execution_count": 151,
   "metadata": {
    "ExecuteTime": {
     "end_time": "2020-11-11T13:47:05.994099Z",
     "start_time": "2020-11-11T13:47:05.982128Z"
    }
   },
   "outputs": [
    {
     "name": "stdout",
     "output_type": "stream",
     "text": [
      "<class 'pandas.core.frame.DataFrame'>\n",
      "RangeIndex: 8854 entries, 0 to 8853\n",
      "Data columns (total 13 columns):\n",
      "Unnamed: 0        8854 non-null int64\n",
      "votes             8854 non-null int64\n",
      "eevp              8854 non-null int64\n",
      "eevp_source       8854 non-null object\n",
      "timestamp         8854 non-null object\n",
      "state             8854 non-null object\n",
      "expected_votes    8854 non-null int64\n",
      "trump2016         8854 non-null int64\n",
      "votes2012         8854 non-null int64\n",
      "votes2016         8854 non-null int64\n",
      "vote_share_rep    8854 non-null float64\n",
      "vote_share_dem    8854 non-null float64\n",
      "vote_share_trd    8854 non-null int64\n",
      "dtypes: float64(2), int64(8), object(3)\n",
      "memory usage: 899.4+ KB\n"
     ]
    }
   ],
   "source": [
    "vf.info()"
   ]
  },
  {
   "cell_type": "code",
   "execution_count": 152,
   "metadata": {
    "ExecuteTime": {
     "end_time": "2020-11-11T13:47:08.243797Z",
     "start_time": "2020-11-11T13:47:08.233824Z"
    }
   },
   "outputs": [
    {
     "data": {
      "text/plain": [
       "23659147148"
      ]
     },
     "execution_count": 152,
     "metadata": {},
     "output_type": "execute_result"
    }
   ],
   "source": [
    "total_votes = sum(vf['votes'])\n",
    "total_votes"
   ]
  },
  {
   "cell_type": "code",
   "execution_count": 153,
   "metadata": {
    "ExecuteTime": {
     "end_time": "2020-11-11T13:47:10.373636Z",
     "start_time": "2020-11-11T13:47:10.365657Z"
    }
   },
   "outputs": [],
   "source": [
    "vf = vf.drop(vf.columns[[0]], axis=1)"
   ]
  },
  {
   "cell_type": "code",
   "execution_count": 154,
   "metadata": {
    "ExecuteTime": {
     "end_time": "2020-11-11T13:47:12.467319Z",
     "start_time": "2020-11-11T13:47:12.445346Z"
    }
   },
   "outputs": [
    {
     "data": {
      "text/html": [
       "<div>\n",
       "<style scoped>\n",
       "    .dataframe tbody tr th:only-of-type {\n",
       "        vertical-align: middle;\n",
       "    }\n",
       "\n",
       "    .dataframe tbody tr th {\n",
       "        vertical-align: top;\n",
       "    }\n",
       "\n",
       "    .dataframe thead th {\n",
       "        text-align: right;\n",
       "    }\n",
       "</style>\n",
       "<table border=\"1\" class=\"dataframe\">\n",
       "  <thead>\n",
       "    <tr style=\"text-align: right;\">\n",
       "      <th></th>\n",
       "      <th>votes</th>\n",
       "      <th>eevp</th>\n",
       "      <th>eevp_source</th>\n",
       "      <th>timestamp</th>\n",
       "      <th>state</th>\n",
       "      <th>expected_votes</th>\n",
       "      <th>trump2016</th>\n",
       "      <th>votes2012</th>\n",
       "      <th>votes2016</th>\n",
       "      <th>vote_share_rep</th>\n",
       "      <th>vote_share_dem</th>\n",
       "      <th>vote_share_trd</th>\n",
       "    </tr>\n",
       "  </thead>\n",
       "  <tbody>\n",
       "    <tr>\n",
       "      <td>0</td>\n",
       "      <td>0</td>\n",
       "      <td>0</td>\n",
       "      <td>edison</td>\n",
       "      <td>2020-11-04T10:01:44Z</td>\n",
       "      <td>alaska</td>\n",
       "      <td>367000</td>\n",
       "      <td>163387</td>\n",
       "      <td>300495</td>\n",
       "      <td>318608</td>\n",
       "      <td>0.000</td>\n",
       "      <td>0.000</td>\n",
       "      <td>0</td>\n",
       "    </tr>\n",
       "    <tr>\n",
       "      <td>1</td>\n",
       "      <td>113744</td>\n",
       "      <td>31</td>\n",
       "      <td>edison</td>\n",
       "      <td>2020-11-04T07:47:41Z</td>\n",
       "      <td>alaska</td>\n",
       "      <td>367000</td>\n",
       "      <td>163387</td>\n",
       "      <td>300495</td>\n",
       "      <td>318608</td>\n",
       "      <td>0.605</td>\n",
       "      <td>0.352</td>\n",
       "      <td>0</td>\n",
       "    </tr>\n",
       "    <tr>\n",
       "      <td>2</td>\n",
       "      <td>132475</td>\n",
       "      <td>36</td>\n",
       "      <td>edison</td>\n",
       "      <td>2020-11-04T08:57:55Z</td>\n",
       "      <td>alaska</td>\n",
       "      <td>367000</td>\n",
       "      <td>163387</td>\n",
       "      <td>300495</td>\n",
       "      <td>318608</td>\n",
       "      <td>0.614</td>\n",
       "      <td>0.347</td>\n",
       "      <td>0</td>\n",
       "    </tr>\n",
       "    <tr>\n",
       "      <td>3</td>\n",
       "      <td>172031</td>\n",
       "      <td>56</td>\n",
       "      <td>edison</td>\n",
       "      <td>2020-11-04T18:34:58Z</td>\n",
       "      <td>alaska</td>\n",
       "      <td>367000</td>\n",
       "      <td>163387</td>\n",
       "      <td>300495</td>\n",
       "      <td>318608</td>\n",
       "      <td>0.629</td>\n",
       "      <td>0.330</td>\n",
       "      <td>0</td>\n",
       "    </tr>\n",
       "    <tr>\n",
       "      <td>4</td>\n",
       "      <td>190970</td>\n",
       "      <td>61</td>\n",
       "      <td>edison</td>\n",
       "      <td>2020-11-09T19:09:13Z</td>\n",
       "      <td>alaska</td>\n",
       "      <td>367000</td>\n",
       "      <td>163387</td>\n",
       "      <td>300495</td>\n",
       "      <td>318608</td>\n",
       "      <td>0.622</td>\n",
       "      <td>0.336</td>\n",
       "      <td>0</td>\n",
       "    </tr>\n",
       "  </tbody>\n",
       "</table>\n",
       "</div>"
      ],
      "text/plain": [
       "    votes  eevp eevp_source             timestamp   state  expected_votes  \\\n",
       "0       0     0      edison  2020-11-04T10:01:44Z  alaska          367000   \n",
       "1  113744    31      edison  2020-11-04T07:47:41Z  alaska          367000   \n",
       "2  132475    36      edison  2020-11-04T08:57:55Z  alaska          367000   \n",
       "3  172031    56      edison  2020-11-04T18:34:58Z  alaska          367000   \n",
       "4  190970    61      edison  2020-11-09T19:09:13Z  alaska          367000   \n",
       "\n",
       "   trump2016  votes2012  votes2016  vote_share_rep  vote_share_dem  \\\n",
       "0     163387     300495     318608           0.000           0.000   \n",
       "1     163387     300495     318608           0.605           0.352   \n",
       "2     163387     300495     318608           0.614           0.347   \n",
       "3     163387     300495     318608           0.629           0.330   \n",
       "4     163387     300495     318608           0.622           0.336   \n",
       "\n",
       "   vote_share_trd  \n",
       "0               0  \n",
       "1               0  \n",
       "2               0  \n",
       "3               0  \n",
       "4               0  "
      ]
     },
     "execution_count": 154,
     "metadata": {},
     "output_type": "execute_result"
    }
   ],
   "source": [
    "vf.head()"
   ]
  },
  {
   "cell_type": "code",
   "execution_count": 155,
   "metadata": {
    "ExecuteTime": {
     "end_time": "2020-11-11T13:47:14.632050Z",
     "start_time": "2020-11-11T13:47:14.624069Z"
    }
   },
   "outputs": [],
   "source": [
    "vf['d_r_ratio'] = vf['vote_share_dem']/vf['vote_share_rep']"
   ]
  },
  {
   "cell_type": "code",
   "execution_count": 156,
   "metadata": {
    "ExecuteTime": {
     "end_time": "2020-11-11T13:47:16.894774Z",
     "start_time": "2020-11-11T13:47:16.873829Z"
    },
    "scrolled": true
   },
   "outputs": [
    {
     "data": {
      "text/html": [
       "<div>\n",
       "<style scoped>\n",
       "    .dataframe tbody tr th:only-of-type {\n",
       "        vertical-align: middle;\n",
       "    }\n",
       "\n",
       "    .dataframe tbody tr th {\n",
       "        vertical-align: top;\n",
       "    }\n",
       "\n",
       "    .dataframe thead th {\n",
       "        text-align: right;\n",
       "    }\n",
       "</style>\n",
       "<table border=\"1\" class=\"dataframe\">\n",
       "  <thead>\n",
       "    <tr style=\"text-align: right;\">\n",
       "      <th></th>\n",
       "      <th>votes</th>\n",
       "      <th>eevp</th>\n",
       "      <th>eevp_source</th>\n",
       "      <th>timestamp</th>\n",
       "      <th>state</th>\n",
       "      <th>expected_votes</th>\n",
       "      <th>trump2016</th>\n",
       "      <th>votes2012</th>\n",
       "      <th>votes2016</th>\n",
       "      <th>vote_share_rep</th>\n",
       "      <th>vote_share_dem</th>\n",
       "      <th>vote_share_trd</th>\n",
       "      <th>d_r_ratio</th>\n",
       "    </tr>\n",
       "  </thead>\n",
       "  <tbody>\n",
       "    <tr>\n",
       "      <td>0</td>\n",
       "      <td>0</td>\n",
       "      <td>0</td>\n",
       "      <td>edison</td>\n",
       "      <td>2020-11-04T10:01:44Z</td>\n",
       "      <td>alaska</td>\n",
       "      <td>367000</td>\n",
       "      <td>163387</td>\n",
       "      <td>300495</td>\n",
       "      <td>318608</td>\n",
       "      <td>0.000</td>\n",
       "      <td>0.000</td>\n",
       "      <td>0</td>\n",
       "      <td>NaN</td>\n",
       "    </tr>\n",
       "    <tr>\n",
       "      <td>1</td>\n",
       "      <td>113744</td>\n",
       "      <td>31</td>\n",
       "      <td>edison</td>\n",
       "      <td>2020-11-04T07:47:41Z</td>\n",
       "      <td>alaska</td>\n",
       "      <td>367000</td>\n",
       "      <td>163387</td>\n",
       "      <td>300495</td>\n",
       "      <td>318608</td>\n",
       "      <td>0.605</td>\n",
       "      <td>0.352</td>\n",
       "      <td>0</td>\n",
       "      <td>0.581818</td>\n",
       "    </tr>\n",
       "    <tr>\n",
       "      <td>2</td>\n",
       "      <td>132475</td>\n",
       "      <td>36</td>\n",
       "      <td>edison</td>\n",
       "      <td>2020-11-04T08:57:55Z</td>\n",
       "      <td>alaska</td>\n",
       "      <td>367000</td>\n",
       "      <td>163387</td>\n",
       "      <td>300495</td>\n",
       "      <td>318608</td>\n",
       "      <td>0.614</td>\n",
       "      <td>0.347</td>\n",
       "      <td>0</td>\n",
       "      <td>0.565147</td>\n",
       "    </tr>\n",
       "    <tr>\n",
       "      <td>3</td>\n",
       "      <td>172031</td>\n",
       "      <td>56</td>\n",
       "      <td>edison</td>\n",
       "      <td>2020-11-04T18:34:58Z</td>\n",
       "      <td>alaska</td>\n",
       "      <td>367000</td>\n",
       "      <td>163387</td>\n",
       "      <td>300495</td>\n",
       "      <td>318608</td>\n",
       "      <td>0.629</td>\n",
       "      <td>0.330</td>\n",
       "      <td>0</td>\n",
       "      <td>0.524642</td>\n",
       "    </tr>\n",
       "    <tr>\n",
       "      <td>4</td>\n",
       "      <td>190970</td>\n",
       "      <td>61</td>\n",
       "      <td>edison</td>\n",
       "      <td>2020-11-09T19:09:13Z</td>\n",
       "      <td>alaska</td>\n",
       "      <td>367000</td>\n",
       "      <td>163387</td>\n",
       "      <td>300495</td>\n",
       "      <td>318608</td>\n",
       "      <td>0.622</td>\n",
       "      <td>0.336</td>\n",
       "      <td>0</td>\n",
       "      <td>0.540193</td>\n",
       "    </tr>\n",
       "  </tbody>\n",
       "</table>\n",
       "</div>"
      ],
      "text/plain": [
       "    votes  eevp eevp_source             timestamp   state  expected_votes  \\\n",
       "0       0     0      edison  2020-11-04T10:01:44Z  alaska          367000   \n",
       "1  113744    31      edison  2020-11-04T07:47:41Z  alaska          367000   \n",
       "2  132475    36      edison  2020-11-04T08:57:55Z  alaska          367000   \n",
       "3  172031    56      edison  2020-11-04T18:34:58Z  alaska          367000   \n",
       "4  190970    61      edison  2020-11-09T19:09:13Z  alaska          367000   \n",
       "\n",
       "   trump2016  votes2012  votes2016  vote_share_rep  vote_share_dem  \\\n",
       "0     163387     300495     318608           0.000           0.000   \n",
       "1     163387     300495     318608           0.605           0.352   \n",
       "2     163387     300495     318608           0.614           0.347   \n",
       "3     163387     300495     318608           0.629           0.330   \n",
       "4     163387     300495     318608           0.622           0.336   \n",
       "\n",
       "   vote_share_trd  d_r_ratio  \n",
       "0               0        NaN  \n",
       "1               0   0.581818  \n",
       "2               0   0.565147  \n",
       "3               0   0.524642  \n",
       "4               0   0.540193  "
      ]
     },
     "execution_count": 156,
     "metadata": {},
     "output_type": "execute_result"
    }
   ],
   "source": [
    "vf.head()"
   ]
  },
  {
   "cell_type": "code",
   "execution_count": 157,
   "metadata": {
    "ExecuteTime": {
     "end_time": "2020-11-11T13:47:19.026532Z",
     "start_time": "2020-11-11T13:47:19.011573Z"
    },
    "scrolled": true
   },
   "outputs": [
    {
     "data": {
      "text/plain": [
       "count                     8854\n",
       "unique                    7619\n",
       "top       2020-11-04T01:31:46Z\n",
       "freq                         6\n",
       "Name: timestamp, dtype: object"
      ]
     },
     "execution_count": 157,
     "metadata": {},
     "output_type": "execute_result"
    }
   ],
   "source": [
    "vf['timestamp'].describe()"
   ]
  },
  {
   "cell_type": "code",
   "execution_count": 158,
   "metadata": {
    "ExecuteTime": {
     "end_time": "2020-11-11T13:47:21.125290Z",
     "start_time": "2020-11-11T13:47:21.104210Z"
    },
    "scrolled": true
   },
   "outputs": [
    {
     "data": {
      "text/plain": [
       "0      2020-11-04 10:01:44+00:00\n",
       "1      2020-11-04 07:47:41+00:00\n",
       "2      2020-11-04 08:57:55+00:00\n",
       "3      2020-11-04 18:34:58+00:00\n",
       "4      2020-11-09 19:09:13+00:00\n",
       "                  ...           \n",
       "8849   2020-11-04 08:29:35+00:00\n",
       "8850   2020-11-04 08:45:32+00:00\n",
       "8851   2020-11-04 08:50:19+00:00\n",
       "8852   2020-11-05 03:23:59+00:00\n",
       "8853   2020-11-06 02:42:54+00:00\n",
       "Name: timestamp, Length: 8854, dtype: datetime64[ns, UTC]"
      ]
     },
     "execution_count": 158,
     "metadata": {},
     "output_type": "execute_result"
    }
   ],
   "source": [
    "datetime = pd.to_datetime(vf['timestamp'])\n",
    "datetime"
   ]
  },
  {
   "cell_type": "code",
   "execution_count": 159,
   "metadata": {
    "ExecuteTime": {
     "end_time": "2020-11-11T13:47:23.250679Z",
     "start_time": "2020-11-11T13:47:23.245693Z"
    }
   },
   "outputs": [],
   "source": [
    "vf.index = datetime"
   ]
  },
  {
   "cell_type": "code",
   "execution_count": 162,
   "metadata": {
    "ExecuteTime": {
     "end_time": "2020-11-11T13:47:40.368732Z",
     "start_time": "2020-11-11T13:47:40.333833Z"
    },
    "scrolled": true
   },
   "outputs": [
    {
     "data": {
      "text/html": [
       "<div>\n",
       "<style scoped>\n",
       "    .dataframe tbody tr th:only-of-type {\n",
       "        vertical-align: middle;\n",
       "    }\n",
       "\n",
       "    .dataframe tbody tr th {\n",
       "        vertical-align: top;\n",
       "    }\n",
       "\n",
       "    .dataframe thead th {\n",
       "        text-align: right;\n",
       "    }\n",
       "</style>\n",
       "<table border=\"1\" class=\"dataframe\">\n",
       "  <thead>\n",
       "    <tr style=\"text-align: right;\">\n",
       "      <th></th>\n",
       "      <th>votes</th>\n",
       "      <th>eevp</th>\n",
       "      <th>eevp_source</th>\n",
       "      <th>timestamp</th>\n",
       "      <th>state</th>\n",
       "      <th>expected_votes</th>\n",
       "      <th>trump2016</th>\n",
       "      <th>votes2012</th>\n",
       "      <th>votes2016</th>\n",
       "      <th>vote_share_rep</th>\n",
       "      <th>vote_share_dem</th>\n",
       "      <th>vote_share_trd</th>\n",
       "      <th>d_r_ratio</th>\n",
       "    </tr>\n",
       "    <tr>\n",
       "      <th>timestamp</th>\n",
       "      <th></th>\n",
       "      <th></th>\n",
       "      <th></th>\n",
       "      <th></th>\n",
       "      <th></th>\n",
       "      <th></th>\n",
       "      <th></th>\n",
       "      <th></th>\n",
       "      <th></th>\n",
       "      <th></th>\n",
       "      <th></th>\n",
       "      <th></th>\n",
       "      <th></th>\n",
       "    </tr>\n",
       "  </thead>\n",
       "  <tbody>\n",
       "    <tr>\n",
       "      <td>2020-11-04 10:01:44+00:00</td>\n",
       "      <td>0</td>\n",
       "      <td>0</td>\n",
       "      <td>edison</td>\n",
       "      <td>2020-11-04T10:01:44Z</td>\n",
       "      <td>alaska</td>\n",
       "      <td>367000</td>\n",
       "      <td>163387</td>\n",
       "      <td>300495</td>\n",
       "      <td>318608</td>\n",
       "      <td>0.000</td>\n",
       "      <td>0.000</td>\n",
       "      <td>0</td>\n",
       "      <td>NaN</td>\n",
       "    </tr>\n",
       "    <tr>\n",
       "      <td>2020-11-04 07:47:41+00:00</td>\n",
       "      <td>113744</td>\n",
       "      <td>31</td>\n",
       "      <td>edison</td>\n",
       "      <td>2020-11-04T07:47:41Z</td>\n",
       "      <td>alaska</td>\n",
       "      <td>367000</td>\n",
       "      <td>163387</td>\n",
       "      <td>300495</td>\n",
       "      <td>318608</td>\n",
       "      <td>0.605</td>\n",
       "      <td>0.352</td>\n",
       "      <td>0</td>\n",
       "      <td>0.581818</td>\n",
       "    </tr>\n",
       "    <tr>\n",
       "      <td>2020-11-04 08:57:55+00:00</td>\n",
       "      <td>132475</td>\n",
       "      <td>36</td>\n",
       "      <td>edison</td>\n",
       "      <td>2020-11-04T08:57:55Z</td>\n",
       "      <td>alaska</td>\n",
       "      <td>367000</td>\n",
       "      <td>163387</td>\n",
       "      <td>300495</td>\n",
       "      <td>318608</td>\n",
       "      <td>0.614</td>\n",
       "      <td>0.347</td>\n",
       "      <td>0</td>\n",
       "      <td>0.565147</td>\n",
       "    </tr>\n",
       "    <tr>\n",
       "      <td>2020-11-04 18:34:58+00:00</td>\n",
       "      <td>172031</td>\n",
       "      <td>56</td>\n",
       "      <td>edison</td>\n",
       "      <td>2020-11-04T18:34:58Z</td>\n",
       "      <td>alaska</td>\n",
       "      <td>367000</td>\n",
       "      <td>163387</td>\n",
       "      <td>300495</td>\n",
       "      <td>318608</td>\n",
       "      <td>0.629</td>\n",
       "      <td>0.330</td>\n",
       "      <td>0</td>\n",
       "      <td>0.524642</td>\n",
       "    </tr>\n",
       "    <tr>\n",
       "      <td>2020-11-09 19:09:13+00:00</td>\n",
       "      <td>190970</td>\n",
       "      <td>61</td>\n",
       "      <td>edison</td>\n",
       "      <td>2020-11-09T19:09:13Z</td>\n",
       "      <td>alaska</td>\n",
       "      <td>367000</td>\n",
       "      <td>163387</td>\n",
       "      <td>300495</td>\n",
       "      <td>318608</td>\n",
       "      <td>0.622</td>\n",
       "      <td>0.336</td>\n",
       "      <td>0</td>\n",
       "      <td>0.540193</td>\n",
       "    </tr>\n",
       "  </tbody>\n",
       "</table>\n",
       "</div>"
      ],
      "text/plain": [
       "                            votes  eevp eevp_source             timestamp  \\\n",
       "timestamp                                                                   \n",
       "2020-11-04 10:01:44+00:00       0     0      edison  2020-11-04T10:01:44Z   \n",
       "2020-11-04 07:47:41+00:00  113744    31      edison  2020-11-04T07:47:41Z   \n",
       "2020-11-04 08:57:55+00:00  132475    36      edison  2020-11-04T08:57:55Z   \n",
       "2020-11-04 18:34:58+00:00  172031    56      edison  2020-11-04T18:34:58Z   \n",
       "2020-11-09 19:09:13+00:00  190970    61      edison  2020-11-09T19:09:13Z   \n",
       "\n",
       "                            state  expected_votes  trump2016  votes2012  \\\n",
       "timestamp                                                                 \n",
       "2020-11-04 10:01:44+00:00  alaska          367000     163387     300495   \n",
       "2020-11-04 07:47:41+00:00  alaska          367000     163387     300495   \n",
       "2020-11-04 08:57:55+00:00  alaska          367000     163387     300495   \n",
       "2020-11-04 18:34:58+00:00  alaska          367000     163387     300495   \n",
       "2020-11-09 19:09:13+00:00  alaska          367000     163387     300495   \n",
       "\n",
       "                           votes2016  vote_share_rep  vote_share_dem  \\\n",
       "timestamp                                                              \n",
       "2020-11-04 10:01:44+00:00     318608           0.000           0.000   \n",
       "2020-11-04 07:47:41+00:00     318608           0.605           0.352   \n",
       "2020-11-04 08:57:55+00:00     318608           0.614           0.347   \n",
       "2020-11-04 18:34:58+00:00     318608           0.629           0.330   \n",
       "2020-11-09 19:09:13+00:00     318608           0.622           0.336   \n",
       "\n",
       "                           vote_share_trd  d_r_ratio  \n",
       "timestamp                                             \n",
       "2020-11-04 10:01:44+00:00               0        NaN  \n",
       "2020-11-04 07:47:41+00:00               0   0.581818  \n",
       "2020-11-04 08:57:55+00:00               0   0.565147  \n",
       "2020-11-04 18:34:58+00:00               0   0.524642  \n",
       "2020-11-09 19:09:13+00:00               0   0.540193  "
      ]
     },
     "execution_count": 162,
     "metadata": {},
     "output_type": "execute_result"
    }
   ],
   "source": [
    "vf.head()"
   ]
  },
  {
   "cell_type": "code",
   "execution_count": 163,
   "metadata": {
    "ExecuteTime": {
     "end_time": "2020-11-11T13:47:50.741032Z",
     "start_time": "2020-11-11T13:47:50.728068Z"
    },
    "scrolled": true
   },
   "outputs": [
    {
     "data": {
      "text/plain": [
       "array(['alaska', 'alabama', 'arkansas', 'arizona', 'california',\n",
       "       'colorado', 'connecticut', 'delaware', 'florida', 'georgia',\n",
       "       'hawaii', 'iowa', 'idaho', 'illinois', 'indiana', 'kansas',\n",
       "       'kentucky', 'louisiana', 'massachusetts', 'maryland', 'maine',\n",
       "       'michigan', 'minnesota', 'missouri', 'mississippi', 'montana',\n",
       "       'north-carolina', 'north-dakota', 'nebraska', 'new-hampshire',\n",
       "       'new-jersey', 'new-mexico', 'nevada', 'new-york', 'ohio',\n",
       "       'oklahoma', 'oregon', 'pennsylvania', 'rhode-island',\n",
       "       'south-carolina', 'south-dakota', 'tennessee', 'texas', 'utah',\n",
       "       'virginia', 'vermont', 'washington', 'wisconsin', 'west-virginia',\n",
       "       'wyoming'], dtype=object)"
      ]
     },
     "execution_count": 163,
     "metadata": {},
     "output_type": "execute_result"
    }
   ],
   "source": [
    "states = vf['state'].unique()\n",
    "states"
   ]
  },
  {
   "cell_type": "code",
   "execution_count": 164,
   "metadata": {
    "ExecuteTime": {
     "end_time": "2020-11-11T13:47:53.964589Z",
     "start_time": "2020-11-11T13:47:53.952618Z"
    }
   },
   "outputs": [
    {
     "data": {
      "text/plain": [
       "48"
      ]
     },
     "execution_count": 164,
     "metadata": {},
     "output_type": "execute_result"
    }
   ],
   "source": [
    "len(vf['expected_votes'].unique())"
   ]
  },
  {
   "cell_type": "code",
   "execution_count": 165,
   "metadata": {
    "ExecuteTime": {
     "end_time": "2020-11-11T13:47:56.948010Z",
     "start_time": "2020-11-11T13:47:56.937881Z"
    }
   },
   "outputs": [
    {
     "data": {
      "text/plain": [
       "0"
      ]
     },
     "execution_count": 165,
     "metadata": {},
     "output_type": "execute_result"
    }
   ],
   "source": [
    "sum(vf['vote_share_trd'])"
   ]
  },
  {
   "cell_type": "code",
   "execution_count": 166,
   "metadata": {
    "ExecuteTime": {
     "end_time": "2020-11-11T13:48:01.151119Z",
     "start_time": "2020-11-11T13:48:01.146134Z"
    }
   },
   "outputs": [],
   "source": [
    "cols_to_drop = ['eevp', 'eevp_source', 'timestamp','trump2016', 'votes2012', 'votes2016', 'vote_share_dem', 'vote_share_rep', 'vote_share_trd']"
   ]
  },
  {
   "cell_type": "code",
   "execution_count": 167,
   "metadata": {
    "ExecuteTime": {
     "end_time": "2020-11-11T13:48:03.817833Z",
     "start_time": "2020-11-11T13:48:03.810851Z"
    }
   },
   "outputs": [],
   "source": [
    "vf.drop(columns=cols_to_drop, inplace=True)"
   ]
  },
  {
   "cell_type": "code",
   "execution_count": 170,
   "metadata": {
    "ExecuteTime": {
     "end_time": "2020-11-11T14:16:49.805833Z",
     "start_time": "2020-11-11T14:16:49.792865Z"
    },
    "scrolled": false
   },
   "outputs": [
    {
     "data": {
      "text/html": [
       "<div>\n",
       "<style scoped>\n",
       "    .dataframe tbody tr th:only-of-type {\n",
       "        vertical-align: middle;\n",
       "    }\n",
       "\n",
       "    .dataframe tbody tr th {\n",
       "        vertical-align: top;\n",
       "    }\n",
       "\n",
       "    .dataframe thead th {\n",
       "        text-align: right;\n",
       "    }\n",
       "</style>\n",
       "<table border=\"1\" class=\"dataframe\">\n",
       "  <thead>\n",
       "    <tr style=\"text-align: right;\">\n",
       "      <th></th>\n",
       "      <th>votes</th>\n",
       "      <th>state</th>\n",
       "      <th>expected_votes</th>\n",
       "      <th>d_r_ratio</th>\n",
       "    </tr>\n",
       "    <tr>\n",
       "      <th>timestamp</th>\n",
       "      <th></th>\n",
       "      <th></th>\n",
       "      <th></th>\n",
       "      <th></th>\n",
       "    </tr>\n",
       "  </thead>\n",
       "  <tbody>\n",
       "    <tr>\n",
       "      <td>2020-11-04 10:01:44+00:00</td>\n",
       "      <td>0</td>\n",
       "      <td>alaska</td>\n",
       "      <td>367000</td>\n",
       "      <td>NaN</td>\n",
       "    </tr>\n",
       "    <tr>\n",
       "      <td>2020-11-04 07:47:41+00:00</td>\n",
       "      <td>113744</td>\n",
       "      <td>alaska</td>\n",
       "      <td>367000</td>\n",
       "      <td>0.581818</td>\n",
       "    </tr>\n",
       "    <tr>\n",
       "      <td>2020-11-04 08:57:55+00:00</td>\n",
       "      <td>132475</td>\n",
       "      <td>alaska</td>\n",
       "      <td>367000</td>\n",
       "      <td>0.565147</td>\n",
       "    </tr>\n",
       "    <tr>\n",
       "      <td>2020-11-04 18:34:58+00:00</td>\n",
       "      <td>172031</td>\n",
       "      <td>alaska</td>\n",
       "      <td>367000</td>\n",
       "      <td>0.524642</td>\n",
       "    </tr>\n",
       "    <tr>\n",
       "      <td>2020-11-09 19:09:13+00:00</td>\n",
       "      <td>190970</td>\n",
       "      <td>alaska</td>\n",
       "      <td>367000</td>\n",
       "      <td>0.540193</td>\n",
       "    </tr>\n",
       "  </tbody>\n",
       "</table>\n",
       "</div>"
      ],
      "text/plain": [
       "                            votes   state  expected_votes  d_r_ratio\n",
       "timestamp                                                           \n",
       "2020-11-04 10:01:44+00:00       0  alaska          367000        NaN\n",
       "2020-11-04 07:47:41+00:00  113744  alaska          367000   0.581818\n",
       "2020-11-04 08:57:55+00:00  132475  alaska          367000   0.565147\n",
       "2020-11-04 18:34:58+00:00  172031  alaska          367000   0.524642\n",
       "2020-11-09 19:09:13+00:00  190970  alaska          367000   0.540193"
      ]
     },
     "execution_count": 170,
     "metadata": {},
     "output_type": "execute_result"
    }
   ],
   "source": [
    "vf_ak = vf.groupby('state').get_group('alaska')\n",
    "vf_ak"
   ]
  },
  {
   "cell_type": "code",
   "execution_count": 171,
   "metadata": {
    "ExecuteTime": {
     "end_time": "2020-11-11T14:18:03.374173Z",
     "start_time": "2020-11-11T14:18:03.355910Z"
    }
   },
   "outputs": [
    {
     "data": {
      "text/plain": [
       "timestamp\n",
       "2020-11-04 10:01:44+00:00    1\n",
       "2020-11-04 07:47:41+00:00    1\n",
       "2020-11-04 08:57:55+00:00    1\n",
       "2020-11-04 18:34:58+00:00    1\n",
       "2020-11-09 19:09:13+00:00    1\n",
       "                            ..\n",
       "2020-11-04 08:29:35+00:00    0\n",
       "2020-11-04 08:45:32+00:00    0\n",
       "2020-11-04 08:50:19+00:00    0\n",
       "2020-11-05 03:23:59+00:00    0\n",
       "2020-11-06 02:42:54+00:00    0\n",
       "Name: alaska, Length: 8854, dtype: int32"
      ]
     },
     "execution_count": 171,
     "metadata": {},
     "output_type": "execute_result"
    }
   ],
   "source": [
    "vf['alaska'] = (vf['state'] == 'alaska').astype(int)\n",
    "vf['alaska']"
   ]
  },
  {
   "cell_type": "code",
   "execution_count": 169,
   "metadata": {
    "ExecuteTime": {
     "end_time": "2020-11-11T13:48:14.158431Z",
     "start_time": "2020-11-11T13:48:14.152448Z"
    }
   },
   "outputs": [
    {
     "data": {
      "text/plain": [
       "609220"
      ]
     },
     "execution_count": 169,
     "metadata": {},
     "output_type": "execute_result"
    }
   ],
   "source": [
    "sum(vf_state['votes'])"
   ]
  },
  {
   "cell_type": "code",
   "execution_count": 174,
   "metadata": {
    "ExecuteTime": {
     "end_time": "2020-11-11T14:21:01.706604Z",
     "start_time": "2020-11-11T14:21:01.700621Z"
    }
   },
   "outputs": [
    {
     "data": {
      "text/plain": [
       "array(['alaska', 'alabama', 'arkansas', 'arizona', 'california',\n",
       "       'colorado', 'connecticut', 'delaware', 'florida', 'georgia',\n",
       "       'hawaii', 'iowa', 'idaho', 'illinois', 'indiana', 'kansas',\n",
       "       'kentucky', 'louisiana', 'massachusetts', 'maryland', 'maine',\n",
       "       'michigan', 'minnesota', 'missouri', 'mississippi', 'montana',\n",
       "       'north-carolina', 'north-dakota', 'nebraska', 'new-hampshire',\n",
       "       'new-jersey', 'new-mexico', 'nevada', 'new-york', 'ohio',\n",
       "       'oklahoma', 'oregon', 'pennsylvania', 'rhode-island',\n",
       "       'south-carolina', 'south-dakota', 'tennessee', 'texas', 'utah',\n",
       "       'virginia', 'vermont', 'washington', 'wisconsin', 'west-virginia',\n",
       "       'wyoming'], dtype=object)"
      ]
     },
     "execution_count": 174,
     "metadata": {},
     "output_type": "execute_result"
    }
   ],
   "source": [
    "states"
   ]
  },
  {
   "cell_type": "code",
   "execution_count": 172,
   "metadata": {
    "ExecuteTime": {
     "end_time": "2020-11-11T14:20:29.563428Z",
     "start_time": "2020-11-11T14:20:29.301160Z"
    }
   },
   "outputs": [],
   "source": [
    "states_dict = {}\n",
    "\n",
    "for state in states:\n",
    "    state_df = vf.groupby('state').get_group(state).copy()\n",
    "    state_df[state] = (state_df['state']==state).astype(int)\n",
    "    state_df.drop(columns=['state'], inplace=True)\n",
    "    states_dict = state_df"
   ]
  },
  {
   "cell_type": "code",
   "execution_count": 173,
   "metadata": {
    "ExecuteTime": {
     "end_time": "2020-11-11T14:20:37.858225Z",
     "start_time": "2020-11-11T14:20:37.840273Z"
    }
   },
   "outputs": [
    {
     "data": {
      "text/html": [
       "<div>\n",
       "<style scoped>\n",
       "    .dataframe tbody tr th:only-of-type {\n",
       "        vertical-align: middle;\n",
       "    }\n",
       "\n",
       "    .dataframe tbody tr th {\n",
       "        vertical-align: top;\n",
       "    }\n",
       "\n",
       "    .dataframe thead th {\n",
       "        text-align: right;\n",
       "    }\n",
       "</style>\n",
       "<table border=\"1\" class=\"dataframe\">\n",
       "  <thead>\n",
       "    <tr style=\"text-align: right;\">\n",
       "      <th></th>\n",
       "      <th>votes</th>\n",
       "      <th>expected_votes</th>\n",
       "      <th>d_r_ratio</th>\n",
       "      <th>alaska</th>\n",
       "      <th>wyoming</th>\n",
       "    </tr>\n",
       "    <tr>\n",
       "      <th>timestamp</th>\n",
       "      <th></th>\n",
       "      <th></th>\n",
       "      <th></th>\n",
       "      <th></th>\n",
       "      <th></th>\n",
       "    </tr>\n",
       "  </thead>\n",
       "  <tbody>\n",
       "    <tr>\n",
       "      <td>2020-11-04 08:04:01+00:00</td>\n",
       "      <td>0</td>\n",
       "      <td>280000</td>\n",
       "      <td>NaN</td>\n",
       "      <td>0</td>\n",
       "      <td>1</td>\n",
       "    </tr>\n",
       "    <tr>\n",
       "      <td>2020-11-04 02:39:32+00:00</td>\n",
       "      <td>1741</td>\n",
       "      <td>280000</td>\n",
       "      <td>0.224592</td>\n",
       "      <td>0</td>\n",
       "      <td>1</td>\n",
       "    </tr>\n",
       "    <tr>\n",
       "      <td>2020-11-04 02:57:26+00:00</td>\n",
       "      <td>4638</td>\n",
       "      <td>280000</td>\n",
       "      <td>0.155952</td>\n",
       "      <td>0</td>\n",
       "      <td>1</td>\n",
       "    </tr>\n",
       "    <tr>\n",
       "      <td>2020-11-04 03:08:33+00:00</td>\n",
       "      <td>6617</td>\n",
       "      <td>280000</td>\n",
       "      <td>0.230964</td>\n",
       "      <td>0</td>\n",
       "      <td>1</td>\n",
       "    </tr>\n",
       "    <tr>\n",
       "      <td>2020-11-04 03:39:34+00:00</td>\n",
       "      <td>12088</td>\n",
       "      <td>280000</td>\n",
       "      <td>0.202989</td>\n",
       "      <td>0</td>\n",
       "      <td>1</td>\n",
       "    </tr>\n",
       "    <tr>\n",
       "      <td>2020-11-04 03:44:20+00:00</td>\n",
       "      <td>12872</td>\n",
       "      <td>280000</td>\n",
       "      <td>0.190887</td>\n",
       "      <td>0</td>\n",
       "      <td>1</td>\n",
       "    </tr>\n",
       "    <tr>\n",
       "      <td>2020-11-04 03:46:00+00:00</td>\n",
       "      <td>17764</td>\n",
       "      <td>280000</td>\n",
       "      <td>0.258235</td>\n",
       "      <td>0</td>\n",
       "      <td>1</td>\n",
       "    </tr>\n",
       "    <tr>\n",
       "      <td>2020-11-04 03:53:08+00:00</td>\n",
       "      <td>35182</td>\n",
       "      <td>280000</td>\n",
       "      <td>0.395349</td>\n",
       "      <td>0</td>\n",
       "      <td>1</td>\n",
       "    </tr>\n",
       "    <tr>\n",
       "      <td>2020-11-04 03:54:29+00:00</td>\n",
       "      <td>35744</td>\n",
       "      <td>280000</td>\n",
       "      <td>0.390738</td>\n",
       "      <td>0</td>\n",
       "      <td>1</td>\n",
       "    </tr>\n",
       "    <tr>\n",
       "      <td>2020-11-04 03:57:47+00:00</td>\n",
       "      <td>38500</td>\n",
       "      <td>280000</td>\n",
       "      <td>0.365057</td>\n",
       "      <td>0</td>\n",
       "      <td>1</td>\n",
       "    </tr>\n",
       "    <tr>\n",
       "      <td>2020-11-04 03:58:17+00:00</td>\n",
       "      <td>46971</td>\n",
       "      <td>280000</td>\n",
       "      <td>0.391618</td>\n",
       "      <td>0</td>\n",
       "      <td>1</td>\n",
       "    </tr>\n",
       "    <tr>\n",
       "      <td>2020-11-04 04:00:29+00:00</td>\n",
       "      <td>55250</td>\n",
       "      <td>280000</td>\n",
       "      <td>0.365057</td>\n",
       "      <td>0</td>\n",
       "      <td>1</td>\n",
       "    </tr>\n",
       "    <tr>\n",
       "      <td>2020-11-04 04:07:04+00:00</td>\n",
       "      <td>71949</td>\n",
       "      <td>280000</td>\n",
       "      <td>0.340751</td>\n",
       "      <td>0</td>\n",
       "      <td>1</td>\n",
       "    </tr>\n",
       "    <tr>\n",
       "      <td>2020-11-04 04:11:14+00:00</td>\n",
       "      <td>72137</td>\n",
       "      <td>280000</td>\n",
       "      <td>0.339360</td>\n",
       "      <td>0</td>\n",
       "      <td>1</td>\n",
       "    </tr>\n",
       "    <tr>\n",
       "      <td>2020-11-04 04:11:40+00:00</td>\n",
       "      <td>90248</td>\n",
       "      <td>280000</td>\n",
       "      <td>0.361582</td>\n",
       "      <td>0</td>\n",
       "      <td>1</td>\n",
       "    </tr>\n",
       "    <tr>\n",
       "      <td>2020-11-04 04:15:12+00:00</td>\n",
       "      <td>94260</td>\n",
       "      <td>280000</td>\n",
       "      <td>0.353933</td>\n",
       "      <td>0</td>\n",
       "      <td>1</td>\n",
       "    </tr>\n",
       "    <tr>\n",
       "      <td>2020-11-04 04:17:56+00:00</td>\n",
       "      <td>97802</td>\n",
       "      <td>280000</td>\n",
       "      <td>0.344011</td>\n",
       "      <td>0</td>\n",
       "      <td>1</td>\n",
       "    </tr>\n",
       "    <tr>\n",
       "      <td>2020-11-04 04:19:06+00:00</td>\n",
       "      <td>100714</td>\n",
       "      <td>280000</td>\n",
       "      <td>0.336100</td>\n",
       "      <td>0</td>\n",
       "      <td>1</td>\n",
       "    </tr>\n",
       "    <tr>\n",
       "      <td>2020-11-04 04:20:14+00:00</td>\n",
       "      <td>105684</td>\n",
       "      <td>280000</td>\n",
       "      <td>0.329201</td>\n",
       "      <td>0</td>\n",
       "      <td>1</td>\n",
       "    </tr>\n",
       "    <tr>\n",
       "      <td>2020-11-04 04:26:05+00:00</td>\n",
       "      <td>123462</td>\n",
       "      <td>280000</td>\n",
       "      <td>0.304465</td>\n",
       "      <td>0</td>\n",
       "      <td>1</td>\n",
       "    </tr>\n",
       "    <tr>\n",
       "      <td>2020-11-04 04:29:34+00:00</td>\n",
       "      <td>131507</td>\n",
       "      <td>280000</td>\n",
       "      <td>0.320109</td>\n",
       "      <td>0</td>\n",
       "      <td>1</td>\n",
       "    </tr>\n",
       "    <tr>\n",
       "      <td>2020-11-04 04:45:26+00:00</td>\n",
       "      <td>133393</td>\n",
       "      <td>280000</td>\n",
       "      <td>0.320548</td>\n",
       "      <td>0</td>\n",
       "      <td>1</td>\n",
       "    </tr>\n",
       "    <tr>\n",
       "      <td>2020-11-04 05:07:53+00:00</td>\n",
       "      <td>141662</td>\n",
       "      <td>280000</td>\n",
       "      <td>0.301351</td>\n",
       "      <td>0</td>\n",
       "      <td>1</td>\n",
       "    </tr>\n",
       "    <tr>\n",
       "      <td>2020-11-04 05:11:00+00:00</td>\n",
       "      <td>151062</td>\n",
       "      <td>280000</td>\n",
       "      <td>0.295699</td>\n",
       "      <td>0</td>\n",
       "      <td>1</td>\n",
       "    </tr>\n",
       "    <tr>\n",
       "      <td>2020-11-04 05:12:49+00:00</td>\n",
       "      <td>160214</td>\n",
       "      <td>280000</td>\n",
       "      <td>0.288770</td>\n",
       "      <td>0</td>\n",
       "      <td>1</td>\n",
       "    </tr>\n",
       "    <tr>\n",
       "      <td>2020-11-04 05:22:51+00:00</td>\n",
       "      <td>161337</td>\n",
       "      <td>280000</td>\n",
       "      <td>0.288385</td>\n",
       "      <td>0</td>\n",
       "      <td>1</td>\n",
       "    </tr>\n",
       "    <tr>\n",
       "      <td>2020-11-04 05:25:57+00:00</td>\n",
       "      <td>167578</td>\n",
       "      <td>280000</td>\n",
       "      <td>0.286667</td>\n",
       "      <td>0</td>\n",
       "      <td>1</td>\n",
       "    </tr>\n",
       "    <tr>\n",
       "      <td>2020-11-04 05:28:01+00:00</td>\n",
       "      <td>174547</td>\n",
       "      <td>280000</td>\n",
       "      <td>0.279841</td>\n",
       "      <td>0</td>\n",
       "      <td>1</td>\n",
       "    </tr>\n",
       "    <tr>\n",
       "      <td>2020-11-04 05:36:30+00:00</td>\n",
       "      <td>181209</td>\n",
       "      <td>280000</td>\n",
       "      <td>0.279841</td>\n",
       "      <td>0</td>\n",
       "      <td>1</td>\n",
       "    </tr>\n",
       "    <tr>\n",
       "      <td>2020-11-04 05:37:45+00:00</td>\n",
       "      <td>193043</td>\n",
       "      <td>280000</td>\n",
       "      <td>0.321918</td>\n",
       "      <td>0</td>\n",
       "      <td>1</td>\n",
       "    </tr>\n",
       "    <tr>\n",
       "      <td>2020-11-04 06:00:44+00:00</td>\n",
       "      <td>197162</td>\n",
       "      <td>280000</td>\n",
       "      <td>0.316508</td>\n",
       "      <td>0</td>\n",
       "      <td>1</td>\n",
       "    </tr>\n",
       "    <tr>\n",
       "      <td>2020-11-04 06:12:59+00:00</td>\n",
       "      <td>208457</td>\n",
       "      <td>280000</td>\n",
       "      <td>0.307172</td>\n",
       "      <td>0</td>\n",
       "      <td>1</td>\n",
       "    </tr>\n",
       "    <tr>\n",
       "      <td>2020-11-04 06:18:38+00:00</td>\n",
       "      <td>210191</td>\n",
       "      <td>280000</td>\n",
       "      <td>0.305819</td>\n",
       "      <td>0</td>\n",
       "      <td>1</td>\n",
       "    </tr>\n",
       "    <tr>\n",
       "      <td>2020-11-04 06:48:32+00:00</td>\n",
       "      <td>211837</td>\n",
       "      <td>280000</td>\n",
       "      <td>0.304054</td>\n",
       "      <td>0</td>\n",
       "      <td>1</td>\n",
       "    </tr>\n",
       "    <tr>\n",
       "      <td>2020-11-04 07:15:43+00:00</td>\n",
       "      <td>217589</td>\n",
       "      <td>280000</td>\n",
       "      <td>0.300135</td>\n",
       "      <td>0</td>\n",
       "      <td>1</td>\n",
       "    </tr>\n",
       "    <tr>\n",
       "      <td>2020-11-04 07:16:15+00:00</td>\n",
       "      <td>232266</td>\n",
       "      <td>280000</td>\n",
       "      <td>0.351049</td>\n",
       "      <td>0</td>\n",
       "      <td>1</td>\n",
       "    </tr>\n",
       "    <tr>\n",
       "      <td>2020-11-04 08:29:35+00:00</td>\n",
       "      <td>268852</td>\n",
       "      <td>280000</td>\n",
       "      <td>0.384505</td>\n",
       "      <td>0</td>\n",
       "      <td>1</td>\n",
       "    </tr>\n",
       "    <tr>\n",
       "      <td>2020-11-04 08:45:32+00:00</td>\n",
       "      <td>271429</td>\n",
       "      <td>280000</td>\n",
       "      <td>0.382521</td>\n",
       "      <td>0</td>\n",
       "      <td>1</td>\n",
       "    </tr>\n",
       "    <tr>\n",
       "      <td>2020-11-04 08:50:19+00:00</td>\n",
       "      <td>276343</td>\n",
       "      <td>280000</td>\n",
       "      <td>0.380544</td>\n",
       "      <td>0</td>\n",
       "      <td>1</td>\n",
       "    </tr>\n",
       "    <tr>\n",
       "      <td>2020-11-05 03:23:59+00:00</td>\n",
       "      <td>276343</td>\n",
       "      <td>280000</td>\n",
       "      <td>0.380544</td>\n",
       "      <td>0</td>\n",
       "      <td>1</td>\n",
       "    </tr>\n",
       "    <tr>\n",
       "      <td>2020-11-06 02:42:54+00:00</td>\n",
       "      <td>276528</td>\n",
       "      <td>280000</td>\n",
       "      <td>0.380000</td>\n",
       "      <td>0</td>\n",
       "      <td>1</td>\n",
       "    </tr>\n",
       "  </tbody>\n",
       "</table>\n",
       "</div>"
      ],
      "text/plain": [
       "                            votes  expected_votes  d_r_ratio  alaska  wyoming\n",
       "timestamp                                                                    \n",
       "2020-11-04 08:04:01+00:00       0          280000        NaN       0        1\n",
       "2020-11-04 02:39:32+00:00    1741          280000   0.224592       0        1\n",
       "2020-11-04 02:57:26+00:00    4638          280000   0.155952       0        1\n",
       "2020-11-04 03:08:33+00:00    6617          280000   0.230964       0        1\n",
       "2020-11-04 03:39:34+00:00   12088          280000   0.202989       0        1\n",
       "2020-11-04 03:44:20+00:00   12872          280000   0.190887       0        1\n",
       "2020-11-04 03:46:00+00:00   17764          280000   0.258235       0        1\n",
       "2020-11-04 03:53:08+00:00   35182          280000   0.395349       0        1\n",
       "2020-11-04 03:54:29+00:00   35744          280000   0.390738       0        1\n",
       "2020-11-04 03:57:47+00:00   38500          280000   0.365057       0        1\n",
       "2020-11-04 03:58:17+00:00   46971          280000   0.391618       0        1\n",
       "2020-11-04 04:00:29+00:00   55250          280000   0.365057       0        1\n",
       "2020-11-04 04:07:04+00:00   71949          280000   0.340751       0        1\n",
       "2020-11-04 04:11:14+00:00   72137          280000   0.339360       0        1\n",
       "2020-11-04 04:11:40+00:00   90248          280000   0.361582       0        1\n",
       "2020-11-04 04:15:12+00:00   94260          280000   0.353933       0        1\n",
       "2020-11-04 04:17:56+00:00   97802          280000   0.344011       0        1\n",
       "2020-11-04 04:19:06+00:00  100714          280000   0.336100       0        1\n",
       "2020-11-04 04:20:14+00:00  105684          280000   0.329201       0        1\n",
       "2020-11-04 04:26:05+00:00  123462          280000   0.304465       0        1\n",
       "2020-11-04 04:29:34+00:00  131507          280000   0.320109       0        1\n",
       "2020-11-04 04:45:26+00:00  133393          280000   0.320548       0        1\n",
       "2020-11-04 05:07:53+00:00  141662          280000   0.301351       0        1\n",
       "2020-11-04 05:11:00+00:00  151062          280000   0.295699       0        1\n",
       "2020-11-04 05:12:49+00:00  160214          280000   0.288770       0        1\n",
       "2020-11-04 05:22:51+00:00  161337          280000   0.288385       0        1\n",
       "2020-11-04 05:25:57+00:00  167578          280000   0.286667       0        1\n",
       "2020-11-04 05:28:01+00:00  174547          280000   0.279841       0        1\n",
       "2020-11-04 05:36:30+00:00  181209          280000   0.279841       0        1\n",
       "2020-11-04 05:37:45+00:00  193043          280000   0.321918       0        1\n",
       "2020-11-04 06:00:44+00:00  197162          280000   0.316508       0        1\n",
       "2020-11-04 06:12:59+00:00  208457          280000   0.307172       0        1\n",
       "2020-11-04 06:18:38+00:00  210191          280000   0.305819       0        1\n",
       "2020-11-04 06:48:32+00:00  211837          280000   0.304054       0        1\n",
       "2020-11-04 07:15:43+00:00  217589          280000   0.300135       0        1\n",
       "2020-11-04 07:16:15+00:00  232266          280000   0.351049       0        1\n",
       "2020-11-04 08:29:35+00:00  268852          280000   0.384505       0        1\n",
       "2020-11-04 08:45:32+00:00  271429          280000   0.382521       0        1\n",
       "2020-11-04 08:50:19+00:00  276343          280000   0.380544       0        1\n",
       "2020-11-05 03:23:59+00:00  276343          280000   0.380544       0        1\n",
       "2020-11-06 02:42:54+00:00  276528          280000   0.380000       0        1"
      ]
     },
     "execution_count": 173,
     "metadata": {},
     "output_type": "execute_result"
    }
   ],
   "source": [
    "states_dict"
   ]
  },
  {
   "cell_type": "code",
   "execution_count": 30,
   "metadata": {
    "ExecuteTime": {
     "end_time": "2020-11-10T21:28:12.423499Z",
     "start_time": "2020-11-10T21:28:12.117745Z"
    }
   },
   "outputs": [],
   "source": [
    "from sklearn.linear_model import TheilSenRegressor"
   ]
  },
  {
   "cell_type": "code",
   "execution_count": 28,
   "metadata": {
    "ExecuteTime": {
     "end_time": "2020-11-10T21:24:34.716341Z",
     "start_time": "2020-11-10T21:24:34.695399Z"
    }
   },
   "outputs": [],
   "source": [
    "def stationarity_check(df):\n",
    "    from statsmodels.tsa.stattools import adfuller\n",
    "    import matplotlib.pyplot as plt\n",
    "    %matplotlib inline\n",
    "  \n",
    "    \n",
    "    #calculate the rolling mean and std\n",
    "    roll_mean = df.rolling(window=8, center=False).mean()\n",
    "    roll_std = df.rolling(window=8, center=False).std()\n",
    "    \n",
    "    #visualizing\n",
    "    fig = plt.figure(figsize = (12,8));\n",
    "    plt.plot(df, color='b', label='Original')\n",
    "    plt.plot(roll_mean, color='r', label='Rolling Mean')\n",
    "    plt.plot(roll_std, color='g', label='Standard Deviation')\n",
    "    plt.title('Rolling Mean and STD')\n",
    "    \n",
    "    #Testing\n",
    "    dftest = adfuller(df)\n",
    "\n",
    "    # Extract and display test results in a user friendly manner\n",
    "    dfoutput = pd.Series(dftest[0:-1], index=['Test Statistic', 'p-value', '#Lags Used', 'Number of Observations Used'])\n",
    "    for key,value in dftest[-1].items():\n",
    "        dfoutput['Critical Value (%s)'%key] = value\n",
    "    print ('Results of Dickey-Fuller test: \\n')\n",
    "    print(dfoutput)"
   ]
  },
  {
   "cell_type": "code",
   "execution_count": 31,
   "metadata": {
    "ExecuteTime": {
     "end_time": "2020-11-10T21:49:08.576673Z",
     "start_time": "2020-11-10T21:49:08.337788Z"
    }
   },
   "outputs": [
    {
     "ename": "ConversionError",
     "evalue": "Failed to convert value(s) to axis units: array(['edison', 'edison', 'edison', ..., 'edison', 'edison', 'edison'],\n      dtype=object)",
     "output_type": "error",
     "traceback": [
      "\u001b[1;31m---------------------------------------------------------------------------\u001b[0m",
      "\u001b[1;31mValueError\u001b[0m                                Traceback (most recent call last)",
      "\u001b[1;32m~\\AppData\\Local\\Continuum\\anaconda3\\envs\\learn-env\\lib\\site-packages\\matplotlib\\axis.py\u001b[0m in \u001b[0;36mconvert_units\u001b[1;34m(self, x)\u001b[0m\n\u001b[0;32m   1572\u001b[0m         \u001b[1;32mtry\u001b[0m\u001b[1;33m:\u001b[0m\u001b[1;33m\u001b[0m\u001b[1;33m\u001b[0m\u001b[0m\n\u001b[1;32m-> 1573\u001b[1;33m             \u001b[0mret\u001b[0m \u001b[1;33m=\u001b[0m \u001b[0mself\u001b[0m\u001b[1;33m.\u001b[0m\u001b[0mconverter\u001b[0m\u001b[1;33m.\u001b[0m\u001b[0mconvert\u001b[0m\u001b[1;33m(\u001b[0m\u001b[0mx\u001b[0m\u001b[1;33m,\u001b[0m \u001b[0mself\u001b[0m\u001b[1;33m.\u001b[0m\u001b[0munits\u001b[0m\u001b[1;33m,\u001b[0m \u001b[0mself\u001b[0m\u001b[1;33m)\u001b[0m\u001b[1;33m\u001b[0m\u001b[1;33m\u001b[0m\u001b[0m\n\u001b[0m\u001b[0;32m   1574\u001b[0m         \u001b[1;32mexcept\u001b[0m \u001b[0mException\u001b[0m \u001b[1;32mas\u001b[0m \u001b[0me\u001b[0m\u001b[1;33m:\u001b[0m\u001b[1;33m\u001b[0m\u001b[1;33m\u001b[0m\u001b[0m\n",
      "\u001b[1;32m~\\AppData\\Local\\Continuum\\anaconda3\\envs\\learn-env\\lib\\site-packages\\matplotlib\\category.py\u001b[0m in \u001b[0;36mconvert\u001b[1;34m(value, unit, axis)\u001b[0m\n\u001b[0;32m     49\u001b[0m             raise ValueError(\n\u001b[1;32m---> 50\u001b[1;33m                 \u001b[1;34m'Missing category information for StrCategoryConverter; '\u001b[0m\u001b[1;33m\u001b[0m\u001b[1;33m\u001b[0m\u001b[0m\n\u001b[0m\u001b[0;32m     51\u001b[0m                 \u001b[1;34m'this might be caused by unintendedly mixing categorical and '\u001b[0m\u001b[1;33m\u001b[0m\u001b[1;33m\u001b[0m\u001b[0m\n",
      "\u001b[1;31mValueError\u001b[0m: Missing category information for StrCategoryConverter; this might be caused by unintendedly mixing categorical and numeric data",
      "\nThe above exception was the direct cause of the following exception:\n",
      "\u001b[1;31mConversionError\u001b[0m                           Traceback (most recent call last)",
      "\u001b[1;32m<ipython-input-31-5c1808e99074>\u001b[0m in \u001b[0;36m<module>\u001b[1;34m\u001b[0m\n\u001b[1;32m----> 1\u001b[1;33m \u001b[0mstationarity_check\u001b[0m\u001b[1;33m(\u001b[0m\u001b[0mvf\u001b[0m\u001b[1;33m)\u001b[0m\u001b[1;33m\u001b[0m\u001b[1;33m\u001b[0m\u001b[0m\n\u001b[0m",
      "\u001b[1;32m<ipython-input-28-2378757786a1>\u001b[0m in \u001b[0;36mstationarity_check\u001b[1;34m(df)\u001b[0m\n\u001b[0;32m     11\u001b[0m     \u001b[1;31m#visualizing\u001b[0m\u001b[1;33m\u001b[0m\u001b[1;33m\u001b[0m\u001b[1;33m\u001b[0m\u001b[0m\n\u001b[0;32m     12\u001b[0m     \u001b[0mfig\u001b[0m \u001b[1;33m=\u001b[0m \u001b[0mplt\u001b[0m\u001b[1;33m.\u001b[0m\u001b[0mfigure\u001b[0m\u001b[1;33m(\u001b[0m\u001b[0mfigsize\u001b[0m \u001b[1;33m=\u001b[0m \u001b[1;33m(\u001b[0m\u001b[1;36m12\u001b[0m\u001b[1;33m,\u001b[0m\u001b[1;36m8\u001b[0m\u001b[1;33m)\u001b[0m\u001b[1;33m)\u001b[0m\u001b[1;33m;\u001b[0m\u001b[1;33m\u001b[0m\u001b[1;33m\u001b[0m\u001b[0m\n\u001b[1;32m---> 13\u001b[1;33m     \u001b[0mplt\u001b[0m\u001b[1;33m.\u001b[0m\u001b[0mplot\u001b[0m\u001b[1;33m(\u001b[0m\u001b[0mdf\u001b[0m\u001b[1;33m,\u001b[0m \u001b[0mcolor\u001b[0m\u001b[1;33m=\u001b[0m\u001b[1;34m'b'\u001b[0m\u001b[1;33m,\u001b[0m \u001b[0mlabel\u001b[0m\u001b[1;33m=\u001b[0m\u001b[1;34m'Original'\u001b[0m\u001b[1;33m)\u001b[0m\u001b[1;33m\u001b[0m\u001b[1;33m\u001b[0m\u001b[0m\n\u001b[0m\u001b[0;32m     14\u001b[0m     \u001b[0mplt\u001b[0m\u001b[1;33m.\u001b[0m\u001b[0mplot\u001b[0m\u001b[1;33m(\u001b[0m\u001b[0mroll_mean\u001b[0m\u001b[1;33m,\u001b[0m \u001b[0mcolor\u001b[0m\u001b[1;33m=\u001b[0m\u001b[1;34m'r'\u001b[0m\u001b[1;33m,\u001b[0m \u001b[0mlabel\u001b[0m\u001b[1;33m=\u001b[0m\u001b[1;34m'Rolling Mean'\u001b[0m\u001b[1;33m)\u001b[0m\u001b[1;33m\u001b[0m\u001b[1;33m\u001b[0m\u001b[0m\n\u001b[0;32m     15\u001b[0m     \u001b[0mplt\u001b[0m\u001b[1;33m.\u001b[0m\u001b[0mplot\u001b[0m\u001b[1;33m(\u001b[0m\u001b[0mroll_std\u001b[0m\u001b[1;33m,\u001b[0m \u001b[0mcolor\u001b[0m\u001b[1;33m=\u001b[0m\u001b[1;34m'g'\u001b[0m\u001b[1;33m,\u001b[0m \u001b[0mlabel\u001b[0m\u001b[1;33m=\u001b[0m\u001b[1;34m'Standard Deviation'\u001b[0m\u001b[1;33m)\u001b[0m\u001b[1;33m\u001b[0m\u001b[1;33m\u001b[0m\u001b[0m\n",
      "\u001b[1;32m~\\AppData\\Local\\Continuum\\anaconda3\\envs\\learn-env\\lib\\site-packages\\matplotlib\\pyplot.py\u001b[0m in \u001b[0;36mplot\u001b[1;34m(scalex, scaley, data, *args, **kwargs)\u001b[0m\n\u001b[0;32m   2761\u001b[0m     return gca().plot(\n\u001b[0;32m   2762\u001b[0m         *args, scalex=scalex, scaley=scaley, **({\"data\": data} if data\n\u001b[1;32m-> 2763\u001b[1;33m         is not None else {}), **kwargs)\n\u001b[0m\u001b[0;32m   2764\u001b[0m \u001b[1;33m\u001b[0m\u001b[0m\n\u001b[0;32m   2765\u001b[0m \u001b[1;33m\u001b[0m\u001b[0m\n",
      "\u001b[1;32m~\\AppData\\Local\\Continuum\\anaconda3\\envs\\learn-env\\lib\\site-packages\\matplotlib\\axes\\_axes.py\u001b[0m in \u001b[0;36mplot\u001b[1;34m(self, scalex, scaley, data, *args, **kwargs)\u001b[0m\n\u001b[0;32m   1646\u001b[0m         \u001b[0mlines\u001b[0m \u001b[1;33m=\u001b[0m \u001b[1;33m[\u001b[0m\u001b[1;33m*\u001b[0m\u001b[0mself\u001b[0m\u001b[1;33m.\u001b[0m\u001b[0m_get_lines\u001b[0m\u001b[1;33m(\u001b[0m\u001b[1;33m*\u001b[0m\u001b[0margs\u001b[0m\u001b[1;33m,\u001b[0m \u001b[0mdata\u001b[0m\u001b[1;33m=\u001b[0m\u001b[0mdata\u001b[0m\u001b[1;33m,\u001b[0m \u001b[1;33m**\u001b[0m\u001b[0mkwargs\u001b[0m\u001b[1;33m)\u001b[0m\u001b[1;33m]\u001b[0m\u001b[1;33m\u001b[0m\u001b[1;33m\u001b[0m\u001b[0m\n\u001b[0;32m   1647\u001b[0m         \u001b[1;32mfor\u001b[0m \u001b[0mline\u001b[0m \u001b[1;32min\u001b[0m \u001b[0mlines\u001b[0m\u001b[1;33m:\u001b[0m\u001b[1;33m\u001b[0m\u001b[1;33m\u001b[0m\u001b[0m\n\u001b[1;32m-> 1648\u001b[1;33m             \u001b[0mself\u001b[0m\u001b[1;33m.\u001b[0m\u001b[0madd_line\u001b[0m\u001b[1;33m(\u001b[0m\u001b[0mline\u001b[0m\u001b[1;33m)\u001b[0m\u001b[1;33m\u001b[0m\u001b[1;33m\u001b[0m\u001b[0m\n\u001b[0m\u001b[0;32m   1649\u001b[0m         \u001b[0mself\u001b[0m\u001b[1;33m.\u001b[0m\u001b[0m_request_autoscale_view\u001b[0m\u001b[1;33m(\u001b[0m\u001b[0mscalex\u001b[0m\u001b[1;33m=\u001b[0m\u001b[0mscalex\u001b[0m\u001b[1;33m,\u001b[0m \u001b[0mscaley\u001b[0m\u001b[1;33m=\u001b[0m\u001b[0mscaley\u001b[0m\u001b[1;33m)\u001b[0m\u001b[1;33m\u001b[0m\u001b[1;33m\u001b[0m\u001b[0m\n\u001b[0;32m   1650\u001b[0m         \u001b[1;32mreturn\u001b[0m \u001b[0mlines\u001b[0m\u001b[1;33m\u001b[0m\u001b[1;33m\u001b[0m\u001b[0m\n",
      "\u001b[1;32m~\\AppData\\Local\\Continuum\\anaconda3\\envs\\learn-env\\lib\\site-packages\\matplotlib\\axes\\_base.py\u001b[0m in \u001b[0;36madd_line\u001b[1;34m(self, line)\u001b[0m\n\u001b[0;32m   1848\u001b[0m             \u001b[0mline\u001b[0m\u001b[1;33m.\u001b[0m\u001b[0mset_clip_path\u001b[0m\u001b[1;33m(\u001b[0m\u001b[0mself\u001b[0m\u001b[1;33m.\u001b[0m\u001b[0mpatch\u001b[0m\u001b[1;33m)\u001b[0m\u001b[1;33m\u001b[0m\u001b[1;33m\u001b[0m\u001b[0m\n\u001b[0;32m   1849\u001b[0m \u001b[1;33m\u001b[0m\u001b[0m\n\u001b[1;32m-> 1850\u001b[1;33m         \u001b[0mself\u001b[0m\u001b[1;33m.\u001b[0m\u001b[0m_update_line_limits\u001b[0m\u001b[1;33m(\u001b[0m\u001b[0mline\u001b[0m\u001b[1;33m)\u001b[0m\u001b[1;33m\u001b[0m\u001b[1;33m\u001b[0m\u001b[0m\n\u001b[0m\u001b[0;32m   1851\u001b[0m         \u001b[1;32mif\u001b[0m \u001b[1;32mnot\u001b[0m \u001b[0mline\u001b[0m\u001b[1;33m.\u001b[0m\u001b[0mget_label\u001b[0m\u001b[1;33m(\u001b[0m\u001b[1;33m)\u001b[0m\u001b[1;33m:\u001b[0m\u001b[1;33m\u001b[0m\u001b[1;33m\u001b[0m\u001b[0m\n\u001b[0;32m   1852\u001b[0m             \u001b[0mline\u001b[0m\u001b[1;33m.\u001b[0m\u001b[0mset_label\u001b[0m\u001b[1;33m(\u001b[0m\u001b[1;34m'_line%d'\u001b[0m \u001b[1;33m%\u001b[0m \u001b[0mlen\u001b[0m\u001b[1;33m(\u001b[0m\u001b[0mself\u001b[0m\u001b[1;33m.\u001b[0m\u001b[0mlines\u001b[0m\u001b[1;33m)\u001b[0m\u001b[1;33m)\u001b[0m\u001b[1;33m\u001b[0m\u001b[1;33m\u001b[0m\u001b[0m\n",
      "\u001b[1;32m~\\AppData\\Local\\Continuum\\anaconda3\\envs\\learn-env\\lib\\site-packages\\matplotlib\\axes\\_base.py\u001b[0m in \u001b[0;36m_update_line_limits\u001b[1;34m(self, line)\u001b[0m\n\u001b[0;32m   1870\u001b[0m         \u001b[0mFigures\u001b[0m \u001b[0mout\u001b[0m \u001b[0mthe\u001b[0m \u001b[0mdata\u001b[0m \u001b[0mlimit\u001b[0m \u001b[0mof\u001b[0m \u001b[0mthe\u001b[0m \u001b[0mgiven\u001b[0m \u001b[0mline\u001b[0m\u001b[1;33m,\u001b[0m \u001b[0mupdating\u001b[0m \u001b[0mself\u001b[0m\u001b[1;33m.\u001b[0m\u001b[0mdataLim\u001b[0m\u001b[1;33m.\u001b[0m\u001b[1;33m\u001b[0m\u001b[1;33m\u001b[0m\u001b[0m\n\u001b[0;32m   1871\u001b[0m         \"\"\"\n\u001b[1;32m-> 1872\u001b[1;33m         \u001b[0mpath\u001b[0m \u001b[1;33m=\u001b[0m \u001b[0mline\u001b[0m\u001b[1;33m.\u001b[0m\u001b[0mget_path\u001b[0m\u001b[1;33m(\u001b[0m\u001b[1;33m)\u001b[0m\u001b[1;33m\u001b[0m\u001b[1;33m\u001b[0m\u001b[0m\n\u001b[0m\u001b[0;32m   1873\u001b[0m         \u001b[1;32mif\u001b[0m \u001b[0mpath\u001b[0m\u001b[1;33m.\u001b[0m\u001b[0mvertices\u001b[0m\u001b[1;33m.\u001b[0m\u001b[0msize\u001b[0m \u001b[1;33m==\u001b[0m \u001b[1;36m0\u001b[0m\u001b[1;33m:\u001b[0m\u001b[1;33m\u001b[0m\u001b[1;33m\u001b[0m\u001b[0m\n\u001b[0;32m   1874\u001b[0m             \u001b[1;32mreturn\u001b[0m\u001b[1;33m\u001b[0m\u001b[1;33m\u001b[0m\u001b[0m\n",
      "\u001b[1;32m~\\AppData\\Local\\Continuum\\anaconda3\\envs\\learn-env\\lib\\site-packages\\matplotlib\\lines.py\u001b[0m in \u001b[0;36mget_path\u001b[1;34m(self)\u001b[0m\n\u001b[0;32m   1025\u001b[0m         \"\"\"\n\u001b[0;32m   1026\u001b[0m         \u001b[1;32mif\u001b[0m \u001b[0mself\u001b[0m\u001b[1;33m.\u001b[0m\u001b[0m_invalidy\u001b[0m \u001b[1;32mor\u001b[0m \u001b[0mself\u001b[0m\u001b[1;33m.\u001b[0m\u001b[0m_invalidx\u001b[0m\u001b[1;33m:\u001b[0m\u001b[1;33m\u001b[0m\u001b[1;33m\u001b[0m\u001b[0m\n\u001b[1;32m-> 1027\u001b[1;33m             \u001b[0mself\u001b[0m\u001b[1;33m.\u001b[0m\u001b[0mrecache\u001b[0m\u001b[1;33m(\u001b[0m\u001b[1;33m)\u001b[0m\u001b[1;33m\u001b[0m\u001b[1;33m\u001b[0m\u001b[0m\n\u001b[0m\u001b[0;32m   1028\u001b[0m         \u001b[1;32mreturn\u001b[0m \u001b[0mself\u001b[0m\u001b[1;33m.\u001b[0m\u001b[0m_path\u001b[0m\u001b[1;33m\u001b[0m\u001b[1;33m\u001b[0m\u001b[0m\n\u001b[0;32m   1029\u001b[0m \u001b[1;33m\u001b[0m\u001b[0m\n",
      "\u001b[1;32m~\\AppData\\Local\\Continuum\\anaconda3\\envs\\learn-env\\lib\\site-packages\\matplotlib\\lines.py\u001b[0m in \u001b[0;36mrecache\u001b[1;34m(self, always)\u001b[0m\n\u001b[0;32m    672\u001b[0m             \u001b[0mx\u001b[0m \u001b[1;33m=\u001b[0m \u001b[0mself\u001b[0m\u001b[1;33m.\u001b[0m\u001b[0m_x\u001b[0m\u001b[1;33m\u001b[0m\u001b[1;33m\u001b[0m\u001b[0m\n\u001b[0;32m    673\u001b[0m         \u001b[1;32mif\u001b[0m \u001b[0malways\u001b[0m \u001b[1;32mor\u001b[0m \u001b[0mself\u001b[0m\u001b[1;33m.\u001b[0m\u001b[0m_invalidy\u001b[0m\u001b[1;33m:\u001b[0m\u001b[1;33m\u001b[0m\u001b[1;33m\u001b[0m\u001b[0m\n\u001b[1;32m--> 674\u001b[1;33m             \u001b[0myconv\u001b[0m \u001b[1;33m=\u001b[0m \u001b[0mself\u001b[0m\u001b[1;33m.\u001b[0m\u001b[0mconvert_yunits\u001b[0m\u001b[1;33m(\u001b[0m\u001b[0mself\u001b[0m\u001b[1;33m.\u001b[0m\u001b[0m_yorig\u001b[0m\u001b[1;33m)\u001b[0m\u001b[1;33m\u001b[0m\u001b[1;33m\u001b[0m\u001b[0m\n\u001b[0m\u001b[0;32m    675\u001b[0m             \u001b[0my\u001b[0m \u001b[1;33m=\u001b[0m \u001b[0m_to_unmasked_float_array\u001b[0m\u001b[1;33m(\u001b[0m\u001b[0myconv\u001b[0m\u001b[1;33m)\u001b[0m\u001b[1;33m.\u001b[0m\u001b[0mravel\u001b[0m\u001b[1;33m(\u001b[0m\u001b[1;33m)\u001b[0m\u001b[1;33m\u001b[0m\u001b[1;33m\u001b[0m\u001b[0m\n\u001b[0;32m    676\u001b[0m         \u001b[1;32melse\u001b[0m\u001b[1;33m:\u001b[0m\u001b[1;33m\u001b[0m\u001b[1;33m\u001b[0m\u001b[0m\n",
      "\u001b[1;32m~\\AppData\\Local\\Continuum\\anaconda3\\envs\\learn-env\\lib\\site-packages\\matplotlib\\artist.py\u001b[0m in \u001b[0;36mconvert_yunits\u001b[1;34m(self, y)\u001b[0m\n\u001b[0;32m    188\u001b[0m         \u001b[1;32mif\u001b[0m \u001b[0max\u001b[0m \u001b[1;32mis\u001b[0m \u001b[1;32mNone\u001b[0m \u001b[1;32mor\u001b[0m \u001b[0max\u001b[0m\u001b[1;33m.\u001b[0m\u001b[0myaxis\u001b[0m \u001b[1;32mis\u001b[0m \u001b[1;32mNone\u001b[0m\u001b[1;33m:\u001b[0m\u001b[1;33m\u001b[0m\u001b[1;33m\u001b[0m\u001b[0m\n\u001b[0;32m    189\u001b[0m             \u001b[1;32mreturn\u001b[0m \u001b[0my\u001b[0m\u001b[1;33m\u001b[0m\u001b[1;33m\u001b[0m\u001b[0m\n\u001b[1;32m--> 190\u001b[1;33m         \u001b[1;32mreturn\u001b[0m \u001b[0max\u001b[0m\u001b[1;33m.\u001b[0m\u001b[0myaxis\u001b[0m\u001b[1;33m.\u001b[0m\u001b[0mconvert_units\u001b[0m\u001b[1;33m(\u001b[0m\u001b[0my\u001b[0m\u001b[1;33m)\u001b[0m\u001b[1;33m\u001b[0m\u001b[1;33m\u001b[0m\u001b[0m\n\u001b[0m\u001b[0;32m    191\u001b[0m \u001b[1;33m\u001b[0m\u001b[0m\n\u001b[0;32m    192\u001b[0m     \u001b[1;33m@\u001b[0m\u001b[0mproperty\u001b[0m\u001b[1;33m\u001b[0m\u001b[1;33m\u001b[0m\u001b[0m\n",
      "\u001b[1;32m~\\AppData\\Local\\Continuum\\anaconda3\\envs\\learn-env\\lib\\site-packages\\matplotlib\\axis.py\u001b[0m in \u001b[0;36mconvert_units\u001b[1;34m(self, x)\u001b[0m\n\u001b[0;32m   1574\u001b[0m         \u001b[1;32mexcept\u001b[0m \u001b[0mException\u001b[0m \u001b[1;32mas\u001b[0m \u001b[0me\u001b[0m\u001b[1;33m:\u001b[0m\u001b[1;33m\u001b[0m\u001b[1;33m\u001b[0m\u001b[0m\n\u001b[0;32m   1575\u001b[0m             raise munits.ConversionError('Failed to convert value(s) to axis '\n\u001b[1;32m-> 1576\u001b[1;33m                                          f'units: {x!r}') from e\n\u001b[0m\u001b[0;32m   1577\u001b[0m         \u001b[1;32mreturn\u001b[0m \u001b[0mret\u001b[0m\u001b[1;33m\u001b[0m\u001b[1;33m\u001b[0m\u001b[0m\n\u001b[0;32m   1578\u001b[0m \u001b[1;33m\u001b[0m\u001b[0m\n",
      "\u001b[1;31mConversionError\u001b[0m: Failed to convert value(s) to axis units: array(['edison', 'edison', 'edison', ..., 'edison', 'edison', 'edison'],\n      dtype=object)"
     ]
    },
    {
     "data": {
      "image/png": "[encoded data removed]",
      "text/plain": [
       "<Figure size 864x576 with 1 Axes>"
      ]
     },
     "metadata": {
      "needs_background": "light"
     },
     "output_type": "display_data"
    }
   ],
   "source": [
    "stationarity_check(vf)"
   ]
  },
  {
   "cell_type": "code",
   "execution_count": null,
   "metadata": {},
   "outputs": [],
   "source": [
    "# Create a time series\n",
    "vote_series = pd.Series(commute, index=dates)"
   ]
  }
 ],
 "metadata": {
  "kernelspec": {
   "display_name": "Python [conda env:learn-env] *",
   "language": "python",
   "name": "conda-env-learn-env-py"
  },
  "language_info": {
   "codemirror_mode": {
    "name": "ipython",
    "version": 3
   },
   "file_extension": ".py",
   "mimetype": "text/x-python",
   "name": "python",
   "nbconvert_exporter": "python",
   "pygments_lexer": "ipython3",
   "version": "3.6.9"
  },
  "latex_envs": {
   "LaTeX_envs_menu_present": true,
   "autoclose": false,
   "autocomplete": true,
   "bibliofile": "biblio.bib",
   "cite_by": "apalike",
   "current_citInitial": 1,
   "eqLabelWithNumbers": true,
   "eqNumInitial": 1,
   "hotkeys": {
    "equation": "Ctrl-E",
    "itemize": "Ctrl-I"
   },
   "labels_anchors": false,
   "latex_user_defs": false,
   "report_style_numbering": false,
   "user_envs_cfg": false
  },
  "toc": {
   "base_numbering": 1,
   "nav_menu": {},
   "number_sections": true,
   "sideBar": true,
   "skip_h1_title": false,
   "title_cell": "Table of Contents",
   "title_sidebar": "Contents",
   "toc_cell": false,
   "toc_position": {},
   "toc_section_display": true,
   "toc_window_display": false
  },
  "varInspector": {
   "cols": {
    "lenName": 16,
    "lenType": 16,
    "lenVar": 40
   },
   "kernels_config": {
    "python": {
     "delete_cmd_postfix": "",
     "delete_cmd_prefix": "del ",
     "library": "var_list.py",
     "varRefreshCmd": "print(var_dic_list())"
    },
    "r": {
     "delete_cmd_postfix": ") ",
     "delete_cmd_prefix": "rm(",
     "library": "var_list.r",
     "varRefreshCmd": "cat(var_dic_list()) "
    }
   },
   "types_to_exclude": [
    "module",
    "function",
    "builtin_function_or_method",
    "instance",
    "_Feature"
   ],
   "window_display": false
  }
 },
 "nbformat": 4,
 "nbformat_minor": 2
}
